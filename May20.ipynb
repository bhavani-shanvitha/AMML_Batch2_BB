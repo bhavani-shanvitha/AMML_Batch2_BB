{
 "cells": [
  {
   "cell_type": "markdown",
   "id": "4a4a0f8b",
   "metadata": {},
   "source": [
    "##### How to create a string in Python"
   ]
  },
  {
   "cell_type": "code",
   "execution_count": 1,
   "id": "01d2a03f",
   "metadata": {},
   "outputs": [],
   "source": [
    "string_1=\"Let's learn Python\""
   ]
  },
  {
   "cell_type": "code",
   "execution_count": 2,
   "id": "76bd87b2",
   "metadata": {},
   "outputs": [
    {
     "ename": "SyntaxError",
     "evalue": "invalid syntax (Temp/ipykernel_3468/1771365422.py, line 1)",
     "output_type": "error",
     "traceback": [
      "\u001b[1;36m  File \u001b[1;32m\"C:\\Users\\PREMAL~1\\AppData\\Local\\Temp/ipykernel_3468/1771365422.py\"\u001b[1;36m, line \u001b[1;32m1\u001b[0m\n\u001b[1;33m    string_2='Let's learn Python'\u001b[0m\n\u001b[1;37m                  ^\u001b[0m\n\u001b[1;31mSyntaxError\u001b[0m\u001b[1;31m:\u001b[0m invalid syntax\n"
     ]
    }
   ],
   "source": [
    "string_2='Let's learn Python'"
   ]
  },
  {
   "cell_type": "code",
   "execution_count": 3,
   "id": "ff35e9e6",
   "metadata": {},
   "outputs": [],
   "source": [
    "string_2_corr=\"Let's learn Python\""
   ]
  },
  {
   "cell_type": "code",
   "execution_count": 7,
   "id": "d57d280b",
   "metadata": {},
   "outputs": [],
   "source": [
    "string_2_alt='Let\\'s learn Python'"
   ]
  },
  {
   "cell_type": "code",
   "execution_count": 11,
   "id": "3cf4fa6c",
   "metadata": {},
   "outputs": [],
   "source": [
    "string_3=\"\"\"The Battle of Heraklion was fought during World War II on the island of Crete between 20 and 29 May 1941. British, Australian and Greek forces defended the port and the airfield of Heraklion against a German paratrooper attack. The German assault was launched without direct air support, and drops occurred over several hours rather than simultaneously. German units dropping near Heraklion (pictured) suffered very high casualties; those dropping further away were severely hampered by Cretan partisans. The German attack failed. When it was renewed the next day it failed again. The fighting then settled into a stalemate. A convoy of German seaborne reinforcements was intercepted by a British naval squadron and scattered. The Germans refocused on the battle for Maleme airfield, which they won, causing the Allies to evacuate. Commonwealth troops were taken off Crete by Allied warships on the night of 28/29 May; at sea, two Allied destroyers were sunk and two cruisers badly damaged, causing many casualties. that Anne Hatchard (pictured) was voted best on ground at the 2022 AFL Women's Grand Final?\n",
    "that merchant trader Constantine Zochonis expanded his company Paterson Zochonis into the Gold Coast in the 1930s?\n",
    "that in 1973, Caroline Rose Foster donated her farm Fosterfields to the Parks Commission of Morris County, New Jersey to be preserved as a functioning farm from 1920... that the British film Strippers vs Werewolves opens with a different band playing the song \"Hungry Like the Wolf\" by Duran Duran?that Indian gynaecologist and reproductive medicine pioneer Baidyanath Chakrabarty, who performed over 4,000 IVF procedures, was a cricket fan who thought Virat Kohli and Ashwin were \"such good boys\"?\n",
    "that Yuki Fumino\\'s relationships with hearing-impaired friends and acquaintances inspired her to create I Hear the Sunspot?\n",
    "that at the age of 26, Lucy Moss became the youngest female director of a Broadway musical before directing a TikTok musical that raised $2 million?\n",
    "that Aroha Bridge changed its name from Hook Ups because fans searching for the show often found pornography instead?\"\"\""
   ]
  },
  {
   "cell_type": "code",
   "execution_count": 12,
   "id": "01f0c187",
   "metadata": {},
   "outputs": [
    {
     "data": {
      "text/plain": [
       "'The Battle of Heraklion was fought during World War II on the island of Crete between 20 and 29 May 1941. British, Australian and Greek forces defended the port and the airfield of Heraklion against a German paratrooper attack. The German assault was launched without direct air support, and drops occurred over several hours rather than simultaneously. German units dropping near Heraklion (pictured) suffered very high casualties; those dropping further away were severely hampered by Cretan partisans. The German attack failed. When it was renewed the next day it failed again. The fighting then settled into a stalemate. A convoy of German seaborne reinforcements was intercepted by a British naval squadron and scattered. The Germans refocused on the battle for Maleme airfield, which they won, causing the Allies to evacuate. Commonwealth troops were taken off Crete by Allied warships on the night of 28/29 May; at sea, two Allied destroyers were sunk and two cruisers badly damaged, causing many casualties. that Anne Hatchard (pictured) was voted best on ground at the 2022 AFL Women\\'s Grand Final?\\nthat merchant trader Constantine Zochonis expanded his company Paterson Zochonis into the Gold Coast in the 1930s?\\nthat in 1973, Caroline Rose Foster donated her farm Fosterfields to the Parks Commission of Morris County, New Jersey to be preserved as a functioning farm from 1920... that the British film Strippers vs Werewolves opens with a different band playing the song \"Hungry Like the Wolf\" by Duran Duran?that Indian gynaecologist and reproductive medicine pioneer Baidyanath Chakrabarty, who performed over 4,000 IVF procedures, was a cricket fan who thought Virat Kohli and Ashwin were \"such good boys\"?\\nthat Yuki Fumino\\'s relationships with hearing-impaired friends and acquaintances inspired her to create I Hear the Sunspot?\\nthat at the age of 26, Lucy Moss became the youngest female director of a Broadway musical before directing a TikTok musical that raised $2 million?\\nthat Aroha Bridge changed its name from Hook Ups because fans searching for the show often found pornography instead?'"
      ]
     },
     "execution_count": 12,
     "metadata": {},
     "output_type": "execute_result"
    }
   ],
   "source": [
    "string_3"
   ]
  },
  {
   "cell_type": "markdown",
   "id": "457c8b61",
   "metadata": {},
   "source": [
    "##### String concatenation"
   ]
  },
  {
   "cell_type": "code",
   "execution_count": 13,
   "id": "678a0b53",
   "metadata": {},
   "outputs": [],
   "source": [
    "string_1=\"I'm a Data Scientist\"\n",
    "string_2=\"You will become ML Engineers\""
   ]
  },
  {
   "cell_type": "code",
   "execution_count": 14,
   "id": "603d1d65",
   "metadata": {},
   "outputs": [
    {
     "data": {
      "text/plain": [
       "\"I'm a Data ScientistYou will become ML Engineers\""
      ]
     },
     "execution_count": 14,
     "metadata": {},
     "output_type": "execute_result"
    }
   ],
   "source": [
    "string_concat=string_1+string_2\n",
    "string_concat"
   ]
  },
  {
   "cell_type": "code",
   "execution_count": 15,
   "id": "d6263851",
   "metadata": {},
   "outputs": [
    {
     "ename": "TypeError",
     "evalue": "can only concatenate str (not \"int\") to str",
     "output_type": "error",
     "traceback": [
      "\u001b[1;31m---------------------------------------------------------------------------\u001b[0m",
      "\u001b[1;31mTypeError\u001b[0m                                 Traceback (most recent call last)",
      "\u001b[1;32mC:\\Users\\PREMAL~1\\AppData\\Local\\Temp/ipykernel_3468/1823718368.py\u001b[0m in \u001b[0;36m<module>\u001b[1;34m\u001b[0m\n\u001b[0;32m      1\u001b[0m \u001b[0mstring\u001b[0m\u001b[1;33m=\u001b[0m\u001b[1;34m\"Hi AI Researchers\"\u001b[0m\u001b[1;33m\u001b[0m\u001b[1;33m\u001b[0m\u001b[0m\n\u001b[0;32m      2\u001b[0m \u001b[0mstring_1\u001b[0m\u001b[1;33m=\u001b[0m\u001b[1;36m58\u001b[0m\u001b[1;33m\u001b[0m\u001b[1;33m\u001b[0m\u001b[0m\n\u001b[1;32m----> 3\u001b[1;33m \u001b[0mstrin_concat\u001b[0m\u001b[1;33m=\u001b[0m\u001b[0mstring\u001b[0m\u001b[1;33m+\u001b[0m\u001b[0mstring_1\u001b[0m\u001b[1;33m\u001b[0m\u001b[1;33m\u001b[0m\u001b[0m\n\u001b[0m",
      "\u001b[1;31mTypeError\u001b[0m: can only concatenate str (not \"int\") to str"
     ]
    }
   ],
   "source": [
    "string=\"Hi AI Researchers\"\n",
    "string_1=58\n",
    "strin_concat=string+string_1"
   ]
  },
  {
   "cell_type": "markdown",
   "id": "43e9932a",
   "metadata": {},
   "source": [
    "##### String Replication"
   ]
  },
  {
   "cell_type": "code",
   "execution_count": 18,
   "id": "5f282f15",
   "metadata": {},
   "outputs": [
    {
     "data": {
      "text/plain": [
       "'Good Evening Good Evening Good Evening Good Evening Good Evening '"
      ]
     },
     "execution_count": 18,
     "metadata": {},
     "output_type": "execute_result"
    }
   ],
   "source": [
    "'Good Evening ' *5"
   ]
  },
  {
   "cell_type": "code",
   "execution_count": 19,
   "id": "c34ce0db",
   "metadata": {},
   "outputs": [
    {
     "data": {
      "text/plain": [
       "'Have a nice day Have a nice day Have a nice day Have a nice day Have a nice day Have a nice day Have a nice day Have a nice day Have a nice day Have a nice day '"
      ]
     },
     "execution_count": 19,
     "metadata": {},
     "output_type": "execute_result"
    }
   ],
   "source": [
    "\"Have a nice day \" *10"
   ]
  },
  {
   "cell_type": "code",
   "execution_count": 38,
   "id": "76c8bfbf",
   "metadata": {},
   "outputs": [
    {
     "name": "stdout",
     "output_type": "stream",
     "text": [
      "Happy birthday to you\n",
      "Happy birthday to you\n",
      "Happy birthday to you\n",
      "Happy birthday to you Dear learner\n",
      "Happy birthday to you\n",
      "may god bless u Dear\n",
      "may god bless u Dear\n",
      "\n"
     ]
    }
   ],
   "source": [
    "print(\"Happy birthday to you\\n\"*3+\"Happy birthday to you Dear learner\\n\"+\"Happy birthday to you\\n\"+\"may god bless u Dear\\n\"*2)\n"
   ]
  },
  {
   "cell_type": "markdown",
   "id": "78a9f5b2",
   "metadata": {},
   "source": [
    "##### input()function"
   ]
  },
  {
   "cell_type": "code",
   "execution_count": 39,
   "id": "8d2f77fb",
   "metadata": {},
   "outputs": [
    {
     "name": "stdout",
     "output_type": "stream",
     "text": [
      "Hi!What's your name?Eesa\n",
      "Nice to meet youEesa!\n"
     ]
    }
   ],
   "source": [
    "name=input(\"Hi!What's your name?\")\n",
    "print(\"Nice to meet you\"+name+\"!\")"
   ]
  },
  {
   "cell_type": "code",
   "execution_count": 41,
   "id": "6f65b53e",
   "metadata": {},
   "outputs": [
    {
     "name": "stdout",
     "output_type": "stream",
     "text": [
      "How old are you?19\n",
      "so you are already 19 years old Eesa!\n"
     ]
    }
   ],
   "source": [
    "str=input(\"How old are you?\")\n",
    "print(\"so you are already \"+str+\" years old Eesa!\")\n"
   ]
  },
  {
   "cell_type": "markdown",
   "id": "785ddd60",
   "metadata": {},
   "source": [
    "##### len function"
   ]
  },
  {
   "cell_type": "code",
   "execution_count": 43,
   "id": "122d5862",
   "metadata": {},
   "outputs": [
    {
     "name": "stdout",
     "output_type": "stream",
     "text": [
      "The length of the string is: 33\n"
     ]
    }
   ],
   "source": [
    "str=\"Hope you are enjoying my session!\"\n",
    "print(\"The length of the string is:\",len(str))"
   ]
  },
  {
   "cell_type": "markdown",
   "id": "ff6999b7",
   "metadata": {},
   "source": [
    "##### filter"
   ]
  },
  {
   "cell_type": "code",
   "execution_count": 53,
   "id": "7e88e1da",
   "metadata": {},
   "outputs": [],
   "source": [
    "ages=[25,22,63,19,4,6,12]\n",
    "def myfunc(x):\n",
    "    if x<18:\n",
    "        return False\n",
    "    else:\n",
    "        return True\n"
   ]
  },
  {
   "cell_type": "code",
   "execution_count": 54,
   "id": "9b120e95",
   "metadata": {},
   "outputs": [
    {
     "name": "stdout",
     "output_type": "stream",
     "text": [
      "25\n",
      "22\n",
      "63\n",
      "19\n"
     ]
    }
   ],
   "source": [
    "adults=filter(myfunc,ages)\n",
    "for x in adults:\n",
    "        print(x)"
   ]
  },
  {
   "cell_type": "code",
   "execution_count": 59,
   "id": "0fd83f68",
   "metadata": {},
   "outputs": [
    {
     "name": "stdout",
     "output_type": "stream",
     "text": [
      "2\n",
      "4\n",
      "6\n",
      "32\n",
      "16\n"
     ]
    }
   ],
   "source": [
    "num=[2,4,6,15,19,32,16]\n",
    "def fun(x):\n",
    "    if x%2==0:\n",
    "      return True\n",
    "    else:\n",
    "      return False\n",
    "even=filter(fun,num)\n",
    "for x in even:\n",
    "    print(x)\n"
   ]
  },
  {
   "cell_type": "code",
   "execution_count": 60,
   "id": "b7084831",
   "metadata": {},
   "outputs": [
    {
     "name": "stdout",
     "output_type": "stream",
     "text": [
      "2\n",
      "4\n",
      "6\n",
      "32\n",
      "16\n"
     ]
    }
   ],
   "source": [
    "ages=[2,4,6,15,19,32,16]\n",
    "def even(x):\n",
    "  if x%2==0:\n",
    "    return True\n",
    "  else:\n",
    "    return False\n",
    "evens=filter(even,ages)\n",
    "for x in evens:\n",
    "  print(x)\n"
   ]
  }
 ],
 "metadata": {
  "kernelspec": {
   "display_name": "Python 3 (ipykernel)",
   "language": "python",
   "name": "python3"
  },
  "language_info": {
   "codemirror_mode": {
    "name": "ipython",
    "version": 3
   },
   "file_extension": ".py",
   "mimetype": "text/x-python",
   "name": "python",
   "nbconvert_exporter": "python",
   "pygments_lexer": "ipython3",
   "version": "3.8.3"
  }
 },
 "nbformat": 4,
 "nbformat_minor": 5
}
